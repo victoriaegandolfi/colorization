{
 "cells": [
  {
   "cell_type": "code",
   "execution_count": null,
   "id": "6935eb6f",
   "metadata": {},
   "outputs": [],
   "source": [
    "import argparse\n",
    "import matplotlib.pyplot as plt\n",
    "\n",
    "from colorizers import *\n",
    "\n",
    "parser = argparse.ArgumentParser()\n",
    "parser.add_argument('-i','--img_path', type=str, default='imgs/ansel_adams3.jpg')\n",
    "parser.add_argument('--use_gpu', action='store_true', help='whether to use GPU')\n",
    "parser.add_argument('-o','--save_prefix', type=str, default='saved', help='will save into this file with {eccv16.png, siggraph17.png} suffixes')\n",
    "opt = parser.parse_args()\n",
    "\n",
    "# load colorizers\n",
    "colorizer_eccv16 = eccv16(pretrained=True).eval()\n",
    "colorizer_siggraph17 = siggraph17(pretrained=True).eval()\n",
    "if(opt.use_gpu):\n",
    "\tcolorizer_eccv16.cuda()\n",
    "\tcolorizer_siggraph17.cuda()\n",
    "\n",
    "# default size to process images is 256x256\n",
    "# grab L channel in both original (\"orig\") and resized (\"rs\") resolutions\n",
    "img = load_img(opt.img_path)\n",
    "(tens_l_orig, tens_l_rs) = preprocess_img(img, HW=(256,256))\n",
    "if(opt.use_gpu):\n",
    "\ttens_l_rs = tens_l_rs.cuda()\n",
    "\n",
    "# colorizer outputs 256x256 ab map\n",
    "# resize and concatenate to original L channel\n",
    "img_bw = postprocess_tens(tens_l_orig, torch.cat((0*tens_l_orig,0*tens_l_orig),dim=1))\n",
    "out_img_eccv16 = postprocess_tens(tens_l_orig, colorizer_eccv16(tens_l_rs).cpu())\n",
    "out_img_siggraph17 = postprocess_tens(tens_l_orig, colorizer_siggraph17(tens_l_rs).cpu())\n",
    "\n",
    "plt.imsave('%s_eccv16.png'%opt.save_prefix, out_img_eccv16)\n",
    "plt.imsave('%s_siggraph17.png'%opt.save_prefix, out_img_siggraph17)\n",
    "\n",
    "plt.figure(figsize=(12,8))\n",
    "plt.subplot(2,2,1)\n",
    "plt.imshow(img)\n",
    "plt.title('Original')\n",
    "plt.axis('off')\n",
    "\n",
    "plt.subplot(2,2,2)\n",
    "plt.imshow(img_bw)\n",
    "plt.title('Input')\n",
    "plt.axis('off')\n",
    "\n",
    "plt.subplot(2,2,3)\n",
    "plt.imshow(out_img_eccv16)\n",
    "plt.title('Output (ECCV 16)')\n",
    "plt.axis('off')\n",
    "\n",
    "plt.subplot(2,2,4)\n",
    "plt.imshow(out_img_siggraph17)\n",
    "plt.title('Output (SIGGRAPH 17)')\n",
    "plt.axis('off')\n",
    "plt.show()"
   ]
  }
 ],
 "metadata": {
  "kernelspec": {
   "display_name": "Python 3",
   "language": "python",
   "name": "python3"
  },
  "language_info": {
   "codemirror_mode": {
    "name": "ipython",
    "version": 3
   },
   "file_extension": ".py",
   "mimetype": "text/x-python",
   "name": "python",
   "nbconvert_exporter": "python",
   "pygments_lexer": "ipython3",
   "version": "3.8.8"
  }
 },
 "nbformat": 4,
 "nbformat_minor": 5
}
